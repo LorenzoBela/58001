{
  "nbformat": 4,
  "nbformat_minor": 0,
  "metadata": {
    "colab": {
      "provenance": [],
      "authorship_tag": "ABX9TyOqnlpOwvd5IaDNqAKbQ43X",
      "include_colab_link": true
    },
    "kernelspec": {
      "name": "python3",
      "display_name": "Python 3"
    },
    "language_info": {
      "name": "python"
    }
  },
  "cells": [
    {
      "cell_type": "markdown",
      "metadata": {
        "id": "view-in-github",
        "colab_type": "text"
      },
      "source": [
        "<a href=\"https://colab.research.google.com/github/LorenzoBela/OOP58001/blob/main/Hands_on_1.ipynb\" target=\"_parent\"><img src=\"https://colab.research.google.com/assets/colab-badge.svg\" alt=\"Open In Colab\"/></a>"
      ]
    },
    {
      "cell_type": "code",
      "execution_count": 16,
      "metadata": {
        "colab": {
          "base_uri": "https://localhost:8080/"
        },
        "id": "Ea3XlKQdaESC",
        "outputId": "de2454b1-a7f9-4576-f702-ab1c9f6b8d7c"
      },
      "outputs": [
        {
          "output_type": "stream",
          "name": "stdout",
          "text": [
            "Enter Student 1's prelim grade: 87\n",
            "Enter Student 1's midterm grade: 78\n",
            "Enter Student 1's final grade: 77\n",
            "The term grade of Student 1 is 80.66666666666667%\n",
            "Enter Student 2's prelim grade: 88\n",
            "Enter Student 2's midterm grade: 69\n",
            "Enter Student 2's final grade: 77\n",
            "The term grade of Student 2 is 78.0%\n",
            "Enter Student 3's prelim grade: 88\n",
            "Enter Student 3's midterm grade: 77\n",
            "Enter Student 3's final grade: 88\n",
            "The term grade of Student 3 is 84.33333333333333%\n"
          ]
        }
      ],
      "source": [
        "#create a Python program that displays the name of three students (Student1, Student 2, and Student 3) and their term grades\n",
        "#Create a class name Person and attributes = std1, std2, std3, pre, mid, fin\n",
        "#Compute the average of each term using Grade() method\n",
        "#Information about student's grades must be hidden from others\n",
        "\n",
        "class Student:\n",
        "    def __init__(self, pre, mid, fin, name):\n",
        "        self.pre = pre\n",
        "        self.mid = mid\n",
        "        self.fin = fin\n",
        "        self.name = name\n",
        "\n",
        "    def grade(self):\n",
        "        average = (self.pre + self.mid + self.fin) / 3\n",
        "        print(f\"The term grade of {self.name} is {average}%\")\n",
        "\n",
        "pre1 = float(input(\"Enter Student 1's prelim grade: \"))\n",
        "mid1 = float(input(\"Enter Student 1's midterm grade: \"))\n",
        "fin1 = float(input(\"Enter Student 1's final grade: \"))\n",
        "std1 = Student(pre1, mid1, fin1, \"Student 1\")\n",
        "std1.grade()\n",
        "\n",
        "pre2 = float(input(\"Enter Student 2's prelim grade: \"))\n",
        "mid2 = float(input(\"Enter Student 2's midterm grade: \"))\n",
        "fin2 = float(input(\"Enter Student 2's final grade: \"))\n",
        "std2 = Student(pre2, mid2, fin2, \"Student 2\")\n",
        "std2.grade()\n",
        "\n",
        "pre3 = float(input(\"Enter Student 3's prelim grade: \"))\n",
        "mid3 = float(input(\"Enter Student 3's midterm grade: \"))\n",
        "fin3 = float(input(\"Enter Student 3's final grade: \"))\n",
        "std3 = Student(pre3, mid3, fin3, \"Student 3\")\n",
        "std3.grade()"
      ]
    }
  ]
}