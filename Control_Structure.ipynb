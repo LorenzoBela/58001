{
  "nbformat": 4,
  "nbformat_minor": 0,
  "metadata": {
    "colab": {
      "provenance": [],
      "authorship_tag": "ABX9TyMIgGbHt9PpEKONce+XUPWP",
      "include_colab_link": true
    },
    "kernelspec": {
      "name": "python3",
      "display_name": "Python 3"
    },
    "language_info": {
      "name": "python"
    }
  },
  "cells": [
    {
      "cell_type": "markdown",
      "metadata": {
        "id": "view-in-github",
        "colab_type": "text"
      },
      "source": [
        "<a href=\"https://colab.research.google.com/github/LorenzoBela/OOP58001/blob/main/Control_Structure.ipynb\" target=\"_parent\"><img src=\"https://colab.research.google.com/assets/colab-badge.svg\" alt=\"Open In Colab\"/></a>"
      ]
    },
    {
      "cell_type": "markdown",
      "source": [
        "Conditional Statement"
      ],
      "metadata": {
        "id": "c24CQA4xDzVH"
      }
    },
    {
      "cell_type": "code",
      "source": [
        " a = 12 \n",
        " b = 100 \n",
        "if b > a:\n",
        "  print (\"b is greater than a\")"
      ],
      "metadata": {
        "colab": {
          "base_uri": "https://localhost:8080/"
        },
        "id": "9QUCZZiiD7yP",
        "outputId": "4a4ef5f7-b8ba-425d-f72f-59ff5c41ae53"
      },
      "execution_count": null,
      "outputs": [
        {
          "output_type": "stream",
          "name": "stdout",
          "text": [
            "b is greater than a\n"
          ]
        }
      ]
    },
    {
      "cell_type": "markdown",
      "source": [
        "Elif Statements"
      ],
      "metadata": {
        "id": "5bmt3MjCFdZm"
      }
    },
    {
      "cell_type": "code",
      "source": [
        "a = 12 \n",
        "b = 12 \n",
        "if b > a:\n",
        "  print(\"b is greater than a\")\n",
        "elif a==b:\n",
        "  print(\"a and b are equal\")"
      ],
      "metadata": {
        "colab": {
          "base_uri": "https://localhost:8080/"
        },
        "id": "9YSnGP2GFep-",
        "outputId": "609582fe-5883-4fcc-9952-73b6bde53bfd"
      },
      "execution_count": null,
      "outputs": [
        {
          "output_type": "stream",
          "name": "stdout",
          "text": [
            "a and b are equal\n"
          ]
        }
      ]
    },
    {
      "cell_type": "code",
      "source": [
        "Else Statements"
      ],
      "metadata": {
        "id": "T4_DG42mFps-"
      },
      "execution_count": null,
      "outputs": []
    },
    {
      "cell_type": "code",
      "source": [
        "a = 200\n",
        "b = 33\n",
        "if b > a:\n",
        "  print(\"b is greater than a\")\n",
        "elif a==b:\n",
        "  print(\"a and b are equal\")\n",
        "else:\n",
        "  print(\"a is greater than b\")"
      ],
      "metadata": {
        "colab": {
          "base_uri": "https://localhost:8080/"
        },
        "id": "MwUm7sniFqom",
        "outputId": "0818ff8c-8987-4a1a-a2c2-e47539ac0554"
      },
      "execution_count": null,
      "outputs": [
        {
          "output_type": "stream",
          "name": "stdout",
          "text": [
            "a is greater than b\n"
          ]
        }
      ]
    },
    {
      "cell_type": "markdown",
      "source": [
        "Short Hand If Statement"
      ],
      "metadata": {
        "id": "EBJeEkudF7t_"
      }
    },
    {
      "cell_type": "code",
      "source": [
        "if a > b: print(\"a is greater than b\")"
      ],
      "metadata": {
        "colab": {
          "base_uri": "https://localhost:8080/"
        },
        "id": "3rjv2d9hF9fu",
        "outputId": "7a34825e-3773-4686-ab81-4d31ad0d4097"
      },
      "execution_count": null,
      "outputs": [
        {
          "output_type": "stream",
          "name": "stdout",
          "text": [
            "a is greater than b\n"
          ]
        }
      ]
    },
    {
      "cell_type": "markdown",
      "source": [
        "Short Hand If Else Statement"
      ],
      "metadata": {
        "id": "_IdwIvoQGFO2"
      }
    },
    {
      "cell_type": "code",
      "source": [
        "a = 2 \n",
        "b = 330\n",
        "print(\"A\") if a > b else print (\"B\")"
      ],
      "metadata": {
        "colab": {
          "base_uri": "https://localhost:8080/"
        },
        "id": "M6NPwqR4GHTm",
        "outputId": "87cc7b7d-4d03-48ef-df49-b795d8b47374"
      },
      "execution_count": null,
      "outputs": [
        {
          "output_type": "stream",
          "name": "stdout",
          "text": [
            "B\n"
          ]
        }
      ]
    },
    {
      "cell_type": "markdown",
      "source": [
        "And-Both conditions are true"
      ],
      "metadata": {
        "id": "Re91fAgWGM4d"
      }
    },
    {
      "cell_type": "code",
      "source": [
        "a = 200\n",
        "b = 33\n",
        "c = 500\n",
        "if a > b and c > a:\n",
        "  print (\"Both conditions are true\")"
      ],
      "metadata": {
        "colab": {
          "base_uri": "https://localhost:8080/"
        },
        "id": "sV_hdcPfGPU1",
        "outputId": "b7fbc471-46e3-49c9-afee-059597cf3ed9"
      },
      "execution_count": null,
      "outputs": [
        {
          "output_type": "stream",
          "name": "stdout",
          "text": [
            "Both conditions are true\n"
          ]
        }
      ]
    },
    {
      "cell_type": "markdown",
      "source": [
        "One of the conditions is true"
      ],
      "metadata": {
        "id": "3MPA6OQzGbyd"
      }
    },
    {
      "cell_type": "code",
      "source": [
        "a = 200\n",
        "b = 33\n",
        "c = 500\n",
        "if a > b or a > c:\n",
        "  print(\"At least one of the condtions is True\")"
      ],
      "metadata": {
        "colab": {
          "base_uri": "https://localhost:8080/"
        },
        "id": "_r8RS1X1Gdd1",
        "outputId": "6c244a75-7f9e-458e-ca17-25d928e115d9"
      },
      "execution_count": null,
      "outputs": [
        {
          "output_type": "stream",
          "name": "stdout",
          "text": [
            "At least one of the condtions is True\n"
          ]
        }
      ]
    },
    {
      "cell_type": "markdown",
      "source": [
        "Nested If"
      ],
      "metadata": {
        "id": "ifimxKDDGkx2"
      }
    },
    {
      "cell_type": "code",
      "source": [
        "x = 41\n",
        "if x>10:\n",
        "  print(\"x is above ten\")\n",
        "if x>20:\n",
        "  print(\"and also above twenty\")\n",
        "if x>30:\n",
        "  print(\"and also above thirty\")\n",
        "if x>40:\n",
        "  print(\"and also above forty\")\n",
        "if x<50:\n",
        "  print(\"but below fifty\")"
      ],
      "metadata": {
        "colab": {
          "base_uri": "https://localhost:8080/"
        },
        "id": "HX-izhw9Glvm",
        "outputId": "32c50f8a-bc98-4065-adaa-43b19463283f"
      },
      "execution_count": null,
      "outputs": [
        {
          "output_type": "stream",
          "name": "stdout",
          "text": [
            "x is above ten\n",
            "and also above twenty\n",
            "and also above thirty\n",
            "and also above forty\n",
            "but below fifty\n"
          ]
        }
      ]
    },
    {
      "cell_type": "markdown",
      "source": [
        "Example 1"
      ],
      "metadata": {
        "id": "KSyU3oITHOfm"
      }
    },
    {
      "cell_type": "code",
      "source": [
        "age = int(input(\"Enter your age: \"))\n",
        "if age >= 18:\n",
        "  print(\"You are eligible to vote.\")\n",
        "else:\n",
        "  print(\"You are not yet eligible to vote.\")"
      ],
      "metadata": {
        "colab": {
          "base_uri": "https://localhost:8080/"
        },
        "id": "AMyNjrmoHPWG",
        "outputId": "02fb6aad-ed77-4bfd-c498-8cbd7a3d46e7"
      },
      "execution_count": null,
      "outputs": [
        {
          "output_type": "stream",
          "name": "stdout",
          "text": [
            "Enter your age: -12\n",
            "You are not yet eligible to vote.\n"
          ]
        }
      ]
    },
    {
      "cell_type": "markdown",
      "source": [
        "Example 2"
      ],
      "metadata": {
        "id": "PerG_9tNHzIF"
      }
    },
    {
      "cell_type": "code",
      "source": [
        "num = int(input(\"Enter a number: \"))\n",
        "if num > 0:\n",
        "  print(\"The number is positive.\")\n",
        "elif num < 0:\n",
        "  print(\"The number is negative.\")\n",
        "else:\n",
        "  print(\"The number is zero.\")"
      ],
      "metadata": {
        "id": "J6DwgG-vH0VO",
        "outputId": "cc85a402-dd46-4454-9d7a-3f2ac66b63c9",
        "colab": {
          "base_uri": "https://localhost:8080/"
        }
      },
      "execution_count": 2,
      "outputs": [
        {
          "output_type": "stream",
          "name": "stdout",
          "text": [
            "Enter a number: -4\n",
            "The number is negative.\n"
          ]
        }
      ]
    },
    {
      "cell_type": "markdown",
      "source": [
        "Example 3"
      ],
      "metadata": {
        "id": "ac4JezK0IGVd"
      }
    },
    {
      "cell_type": "code",
      "source": [
        "grade = float(input(\"Enter your grade: \"))\n",
        "\n",
        "if grade >= 0 and grade <= 100:\n",
        "    if grade >= 70:\n",
        "      print(\"Passed\")\n",
        "elif 65 <= grade <= 69:\n",
        "  print(\"Remedial\")\n",
        "elif grade <= 64:\n",
        "  print(\"Failed\")\n",
        "else:\n",
        "  print(\"Invalid grade\")"
      ],
      "metadata": {
        "colab": {
          "base_uri": "https://localhost:8080/"
        },
        "id": "R0m0dBdtIHNt",
        "outputId": "65c4c3fd-0b0b-4148-f43d-9edb631553fb"
      },
      "execution_count": null,
      "outputs": [
        {
          "output_type": "stream",
          "name": "stdout",
          "text": [
            "Enter your grade: 88\n",
            "Passed\n"
          ]
        }
      ]
    }
  ]
}