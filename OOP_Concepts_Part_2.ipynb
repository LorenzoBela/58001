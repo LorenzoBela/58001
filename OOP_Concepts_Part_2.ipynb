{
  "nbformat": 4,
  "nbformat_minor": 0,
  "metadata": {
    "colab": {
      "provenance": [],
      "authorship_tag": "ABX9TyOAigZZEBS1S4huxRwcSLrz",
      "include_colab_link": true
    },
    "kernelspec": {
      "name": "python3",
      "display_name": "Python 3"
    },
    "language_info": {
      "name": "python"
    }
  },
  "cells": [
    {
      "cell_type": "markdown",
      "metadata": {
        "id": "view-in-github",
        "colab_type": "text"
      },
      "source": [
        "<a href=\"https://colab.research.google.com/github/LorenzoBela/OOP58001/blob/main/OOP_Concepts_Part_2.ipynb\" target=\"_parent\"><img src=\"https://colab.research.google.com/assets/colab-badge.svg\" alt=\"Open In Colab\"/></a>"
      ]
    },
    {
      "cell_type": "code",
      "source": [
        "class Birds:\n",
        "    def __init__(self, bird_name):\n",
        "        self.bird_name = bird_name\n",
        "        \n",
        "    def flying_birds(self):\n",
        "        print(f\"{self.bird_name} flies above clouds\")      \n",
        "    def non_flying_birds(self):\n",
        "        print(f\"{self.bird_name} is the national bird of the Philippines\")\n"
      ],
      "metadata": {
        "id": "tr2r-UZyXoi8"
      },
      "execution_count": 13,
      "outputs": []
    },
    {
      "cell_type": "code",
      "execution_count": 8,
      "metadata": {
        "colab": {
          "base_uri": "https://localhost:8080/"
        },
        "id": "sF_W5yXRWwGu",
        "outputId": "e03a509e-3367-4dcf-946d-923d782bdd34"
      },
      "outputs": [
        {
          "output_type": "stream",
          "name": "stdout",
          "text": [
            "Griffon Vulture flies above clouds\n",
            "Common Crane flies above clouds\n",
            "Emu is the national bird of the Philippines\n"
          ]
        }
      ],
      "source": [
        "vulture = Birds(\"Griffon Vulture\")\n",
        "crane = Birds(\"Common Crane\")\n",
        "emu = Birds(\"Emu\")\n",
        "\n",
        "vulture.flying_birds()\n",
        "crane.flying_birds()\n",
        "emu.non_flying_birds()"
      ]
    },
    {
      "cell_type": "code",
      "source": [
        "class Foo:\n",
        "    def __init__(self, a, b):\n",
        "        self.a = a\n",
        "        self.b = b     \n",
        "    def add(self):\n",
        "        return self.a + self.b\n",
        "        \n",
        "foo_object = Foo(3, 4)\n",
        "foo_object.add()"
      ],
      "metadata": {
        "colab": {
          "base_uri": "https://localhost:8080/"
        },
        "id": "BVX842mQZCZ6",
        "outputId": "c0b1496b-de61-4379-bf8a-9e0cbeae5f14"
      },
      "execution_count": 12,
      "outputs": [
        {
          "output_type": "execute_result",
          "data": {
            "text/plain": [
              "7"
            ]
          },
          "metadata": {},
          "execution_count": 12
        }
      ]
    },
    {
      "cell_type": "code",
      "source": [
        "class Person:\n",
        "    def __init__(self, name, birthdate):\n",
        "        self.name = name\n",
        "        self.birthdate = birthdate\n",
        "    \n",
        "    def display(self):\n",
        "        print(f\"My name is {self.name}\")\n",
        "        print(f\"My birthdate is {self.birthdate}\")\n",
        "\n",
        "class Student(Person):\n",
        "    pass\n",
        "\n",
        "class Teacher(Person):\n",
        "    pass\n",
        "\n",
        "student = Student(\"Kean\", \"March 14, 2003\")\n",
        "student.display()\n",
        "teacher = Teacher(\"Audrey\", \"March 4, 2004\")\n",
        "teacher.display()\n"
      ],
      "metadata": {
        "colab": {
          "base_uri": "https://localhost:8080/"
        },
        "id": "D9WdW3gbfw4S",
        "outputId": "18e3978a-6438-4ae9-ab0c-e4296847a43e"
      },
      "execution_count": 20,
      "outputs": [
        {
          "output_type": "stream",
          "name": "stdout",
          "text": [
            "My name is Kean\n",
            "My birthdate is March 14, 2003\n",
            "My name is Audrey\n",
            "My birthdate is March 4, 2004\n"
          ]
        }
      ]
    },
    {
      "cell_type": "code",
      "source": [
        "# create a class name shapes (5 shapes)\n",
        "# attributes sides\n",
        "# create a function/method that displays the no. of sides of each shape\n",
        "# apply inheritance and encapsulation\n",
        "\n",
        "class Shapes:\n",
        "    def __init__(self, sides):\n",
        "        self._sides = sides\n",
        "    \n",
        "    def display_sides(self):\n",
        "        print(f\"The shape {self.__class__.__name__} has {self._sides} sides.\") \n",
        "         \n",
        "class Hexagon(Shapes):\n",
        "    pass\n",
        "class Heptagon(Shapes):\n",
        "    pass \n",
        "class Octagon(Shapes):\n",
        "    pass  \n",
        "class Nonagon(Shapes):\n",
        "    pass  \n",
        "class Decagon(Shapes):\n",
        "    pass\n",
        "\n",
        "hexagon = Hexagon(6)\n",
        "hexagon.display_sides()\n",
        "heptagon = Heptagon(7)\n",
        "heptagon.display_sides()\n",
        "octagon = Octagon(8)\n",
        "octagon.display_sides()\n",
        "nonagon = Nonagon(9)\n",
        "nonagon.display_sides()\n",
        "decagon = Decagon(10)\n",
        "decagon.display_sides()"
      ],
      "metadata": {
        "colab": {
          "base_uri": "https://localhost:8080/"
        },
        "id": "G1JBsvKPh-ME",
        "outputId": "cc3581ad-d299-4ca3-9e80-bb84432f8f42"
      },
      "execution_count": 33,
      "outputs": [
        {
          "output_type": "stream",
          "name": "stdout",
          "text": [
            "The shape Hexagon has 6 sides.\n",
            "The shape Heptagon has 7 sides.\n",
            "The shape Octagon has 8 sides.\n",
            "The shape Nonagon has 9 sides.\n",
            "The shape Decagon has 10 sides.\n"
          ]
        }
      ]
    }
  ]
}