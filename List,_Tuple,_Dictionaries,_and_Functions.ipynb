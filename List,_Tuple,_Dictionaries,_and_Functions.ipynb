{
  "nbformat": 4,
  "nbformat_minor": 0,
  "metadata": {
    "colab": {
      "provenance": [],
      "authorship_tag": "ABX9TyOs18txvQ9RXxxVQFv9YNu1",
      "include_colab_link": true
    },
    "kernelspec": {
      "name": "python3",
      "display_name": "Python 3"
    },
    "language_info": {
      "name": "python"
    }
  },
  "cells": [
    {
      "cell_type": "markdown",
      "metadata": {
        "id": "view-in-github",
        "colab_type": "text"
      },
      "source": [
        "<a href=\"https://colab.research.google.com/github/LorenzoBela/OOP58001/blob/main/List%2C_Tuple%2C_Dictionaries%2C_and_Functions.ipynb\" target=\"_parent\"><img src=\"https://colab.research.google.com/assets/colab-badge.svg\" alt=\"Open In Colab\"/></a>"
      ]
    },
    {
      "cell_type": "code",
      "execution_count": 5,
      "metadata": {
        "colab": {
          "base_uri": "https://localhost:8080/"
        },
        "id": "yZR53s_gPVB_",
        "outputId": "656d296f-4bed-46f9-9ff0-328060cb3ad0"
      },
      "outputs": [
        {
          "output_type": "execute_result",
          "data": {
            "text/plain": [
              "50"
            ]
          },
          "metadata": {},
          "execution_count": 5
        }
      ],
      "source": [
        "class shapes:\n",
        "  def __init__(self, length, width):\n",
        "    self.length = length\n",
        "    self.width = width\n",
        "  def area(self):\n",
        "    return self.length * self.width\n",
        "rectangle= shapes (10,5)\n",
        "rectangle.area()\n",
        "#rectangle"
      ]
    },
    {
      "cell_type": "code",
      "source": [
        "pow (10,2)\n",
        "array= [\"apple\", \"banana\", \"orange\"]\n",
        "array.insert (0, \"cherry\")\n",
        "print(array)"
      ],
      "metadata": {
        "colab": {
          "base_uri": "https://localhost:8080/"
        },
        "id": "HdLSbvaXPnIB",
        "outputId": "2bf14c4c-cf1b-4f04-c8f2-8e9a59a3b247"
      },
      "execution_count": 4,
      "outputs": [
        {
          "output_type": "stream",
          "name": "stdout",
          "text": [
            "['cherry', 'apple', 'banana', 'orange']\n"
          ]
        }
      ]
    },
    {
      "cell_type": "code",
      "source": [
        "class shapes:\n",
        "  def __init__(self, side):\n",
        "    self.side = side\n",
        "  def arearec(self):\n",
        "    return self.length * self.width\n",
        "  def areasqr(self):\n",
        "    return self.side ** 2\n",
        "square = shapes(5)\n",
        "square.areasqr()\n",
        "#square"
      ],
      "metadata": {
        "colab": {
          "base_uri": "https://localhost:8080/"
        },
        "id": "p-eMT3NOR6-m",
        "outputId": "8198af8f-0a00-4f56-8426-3f7661601317"
      },
      "execution_count": 6,
      "outputs": [
        {
          "output_type": "execute_result",
          "data": {
            "text/plain": [
              "25"
            ]
          },
          "metadata": {},
          "execution_count": 6
        }
      ]
    },
    {
      "cell_type": "code",
      "source": [
        "#Create your own funtion that will show your fullname and age\n",
        "#Use Person as class name\n",
        "\n",
        "class person:\n",
        "  def __init__(self,name,age):\n",
        "    self.name=name\n",
        "    self.age=age\n",
        "  def function(self):\n",
        "    print(self.name+self.age)\n",
        "Zo=person(\"Lorenzo Miguel D. Bela, \",\"18 years old\")\n",
        "Zo.function()"
      ],
      "metadata": {
        "colab": {
          "base_uri": "https://localhost:8080/"
        },
        "id": "t8aVa-XuR-xW",
        "outputId": "cbcc805c-a71e-44f5-a07f-067c77c944e1"
      },
      "execution_count": 22,
      "outputs": [
        {
          "output_type": "stream",
          "name": "stdout",
          "text": [
            "Lorenzo Miguel D. Bela, 18 years old\n"
          ]
        }
      ]
    },
    {
      "cell_type": "markdown",
      "source": [
        "List"
      ],
      "metadata": {
        "id": "Tbtgo05DUxi1"
      }
    },
    {
      "cell_type": "code",
      "source": [
        "pi = 3.14159\n",
        "varlist = ['abc', 1, 'def', 2]\n",
        "print(varlist[0])\n",
        "\n",
        "varlist.append('ghi')\n",
        "print(varlist)\n",
        "varlist.remove(2)\n",
        "print(varlist)\n",
        "varlist.insert(3, 10000)\n",
        "print(varlist)"
      ],
      "metadata": {
        "colab": {
          "base_uri": "https://localhost:8080/"
        },
        "id": "r-rHazvbUyUV",
        "outputId": "538871e8-d98d-454f-c015-22e9e8ede64f"
      },
      "execution_count": 25,
      "outputs": [
        {
          "output_type": "stream",
          "name": "stdout",
          "text": [
            "abc\n",
            "['abc', 1, 'def', 2, 'ghi']\n",
            "['abc', 1, 'def', 'ghi']\n",
            "['abc', 1, 'def', 10000, 'ghi']\n"
          ]
        }
      ]
    },
    {
      "cell_type": "markdown",
      "source": [
        "Dictionaries"
      ],
      "metadata": {
        "id": "rGWRVo9-W6HD"
      }
    },
    {
      "cell_type": "code",
      "source": [
        "students = {\n",
        "      1:\"JerrilBilog\",\n",
        "      2:\"LorenzoBels\",\n",
        "      3:\"SamanthaCarls\",\n",
        "      4:\"KeanGuz\",\n",
        "      5:\"Jimboi\",\n",
        "      6:\"AudreyDys\"\n",
        "\n",
        "\n",
        "}\n",
        "print(students)"
      ],
      "metadata": {
        "colab": {
          "base_uri": "https://localhost:8080/"
        },
        "id": "ia5ll--2XTd7",
        "outputId": "cc8c3dd8-ecc5-4d2e-c057-2c988f5e39f7"
      },
      "execution_count": 27,
      "outputs": [
        {
          "output_type": "stream",
          "name": "stdout",
          "text": [
            "{1: 'JerrilBilog', 2: 'LorenzoBels', 3: 'SamanthaCarls', 4: 'KeanGuz', 5: 'Jimboi', 6: 'AudreyDys'}\n"
          ]
        }
      ]
    }
  ]
}