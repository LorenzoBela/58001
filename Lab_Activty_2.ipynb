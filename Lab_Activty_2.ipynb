{
  "nbformat": 4,
  "nbformat_minor": 0,
  "metadata": {
    "colab": {
      "provenance": [],
      "authorship_tag": "ABX9TyMXzLRwu6Ya77l/CP3tnVvU",
      "include_colab_link": true
    },
    "kernelspec": {
      "name": "python3",
      "display_name": "Python 3"
    },
    "language_info": {
      "name": "python"
    }
  },
  "cells": [
    {
      "cell_type": "markdown",
      "metadata": {
        "id": "view-in-github",
        "colab_type": "text"
      },
      "source": [
        "<a href=\"https://colab.research.google.com/github/LorenzoBela/OOP58001/blob/main/Lab_Activty_2.ipynb\" target=\"_parent\"><img src=\"https://colab.research.google.com/assets/colab-badge.svg\" alt=\"Open In Colab\"/></a>"
      ]
    },
    {
      "cell_type": "code",
      "execution_count": 4,
      "metadata": {
        "colab": {
          "base_uri": "https://localhost:8080/"
        },
        "id": "63-V5UlWD5AP",
        "outputId": "c0afb158-bd0b-4a1a-9fa2-5b74bf663edd"
      },
      "outputs": [
        {
          "output_type": "stream",
          "name": "stdout",
          "text": [
            "Enter the radius of the circle: 3\n",
            "Perimeter: 18.85\n",
            "Area: 28.27\n"
          ]
        }
      ],
      "source": [
        "class Circle:\n",
        "    def __init__(self, r):\n",
        "        self.r = r\n",
        "\n",
        "    def display(self):\n",
        "        pi_approx = 3.14159\n",
        "        print(\"Perimeter:\", round(2 * pi_approx * self.r, 2))\n",
        "        print(\"Area:\", round(pi_approx * self.r ** 2, 2))\n",
        "\n",
        "r = float(input(\"Enter the radius of the circle: \"))\n",
        "circle = Circle(r)\n",
        "circle.display()"
      ]
    }
  ]
}